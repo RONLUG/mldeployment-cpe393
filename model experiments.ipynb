{
 "cells": [
  {
   "cell_type": "code",
   "execution_count": 94,
   "id": "7df130a8",
   "metadata": {},
   "outputs": [],
   "source": [
    "import numpy as np\n",
    "import pandas as pd\n",
    "import matplotlib.pyplot as plt\n",
    "import seaborn as sns\n",
    "import pickle"
   ]
  },
  {
   "cell_type": "code",
   "execution_count": 95,
   "id": "cb6746ae",
   "metadata": {},
   "outputs": [],
   "source": [
    "df = pd.read_csv(\"Housing.csv\")"
   ]
  },
  {
   "cell_type": "code",
   "execution_count": 96,
   "id": "9aff48c2",
   "metadata": {},
   "outputs": [
    {
     "data": {
      "text/html": [
       "<div>\n",
       "<style scoped>\n",
       "    .dataframe tbody tr th:only-of-type {\n",
       "        vertical-align: middle;\n",
       "    }\n",
       "\n",
       "    .dataframe tbody tr th {\n",
       "        vertical-align: top;\n",
       "    }\n",
       "\n",
       "    .dataframe thead th {\n",
       "        text-align: right;\n",
       "    }\n",
       "</style>\n",
       "<table border=\"1\" class=\"dataframe\">\n",
       "  <thead>\n",
       "    <tr style=\"text-align: right;\">\n",
       "      <th></th>\n",
       "      <th>price</th>\n",
       "      <th>area</th>\n",
       "      <th>bedrooms</th>\n",
       "      <th>bathrooms</th>\n",
       "      <th>stories</th>\n",
       "      <th>mainroad</th>\n",
       "      <th>guestroom</th>\n",
       "      <th>basement</th>\n",
       "      <th>hotwaterheating</th>\n",
       "      <th>airconditioning</th>\n",
       "      <th>parking</th>\n",
       "      <th>prefarea</th>\n",
       "      <th>furnishingstatus</th>\n",
       "    </tr>\n",
       "  </thead>\n",
       "  <tbody>\n",
       "    <tr>\n",
       "      <th>0</th>\n",
       "      <td>13300000</td>\n",
       "      <td>7420</td>\n",
       "      <td>4</td>\n",
       "      <td>2</td>\n",
       "      <td>3</td>\n",
       "      <td>yes</td>\n",
       "      <td>no</td>\n",
       "      <td>no</td>\n",
       "      <td>no</td>\n",
       "      <td>yes</td>\n",
       "      <td>2</td>\n",
       "      <td>yes</td>\n",
       "      <td>furnished</td>\n",
       "    </tr>\n",
       "    <tr>\n",
       "      <th>1</th>\n",
       "      <td>12250000</td>\n",
       "      <td>8960</td>\n",
       "      <td>4</td>\n",
       "      <td>4</td>\n",
       "      <td>4</td>\n",
       "      <td>yes</td>\n",
       "      <td>no</td>\n",
       "      <td>no</td>\n",
       "      <td>no</td>\n",
       "      <td>yes</td>\n",
       "      <td>3</td>\n",
       "      <td>no</td>\n",
       "      <td>furnished</td>\n",
       "    </tr>\n",
       "    <tr>\n",
       "      <th>2</th>\n",
       "      <td>12250000</td>\n",
       "      <td>9960</td>\n",
       "      <td>3</td>\n",
       "      <td>2</td>\n",
       "      <td>2</td>\n",
       "      <td>yes</td>\n",
       "      <td>no</td>\n",
       "      <td>yes</td>\n",
       "      <td>no</td>\n",
       "      <td>no</td>\n",
       "      <td>2</td>\n",
       "      <td>yes</td>\n",
       "      <td>semi-furnished</td>\n",
       "    </tr>\n",
       "    <tr>\n",
       "      <th>3</th>\n",
       "      <td>12215000</td>\n",
       "      <td>7500</td>\n",
       "      <td>4</td>\n",
       "      <td>2</td>\n",
       "      <td>2</td>\n",
       "      <td>yes</td>\n",
       "      <td>no</td>\n",
       "      <td>yes</td>\n",
       "      <td>no</td>\n",
       "      <td>yes</td>\n",
       "      <td>3</td>\n",
       "      <td>yes</td>\n",
       "      <td>furnished</td>\n",
       "    </tr>\n",
       "    <tr>\n",
       "      <th>4</th>\n",
       "      <td>11410000</td>\n",
       "      <td>7420</td>\n",
       "      <td>4</td>\n",
       "      <td>1</td>\n",
       "      <td>2</td>\n",
       "      <td>yes</td>\n",
       "      <td>yes</td>\n",
       "      <td>yes</td>\n",
       "      <td>no</td>\n",
       "      <td>yes</td>\n",
       "      <td>2</td>\n",
       "      <td>no</td>\n",
       "      <td>furnished</td>\n",
       "    </tr>\n",
       "  </tbody>\n",
       "</table>\n",
       "</div>"
      ],
      "text/plain": [
       "      price  area  bedrooms  bathrooms  stories mainroad guestroom basement  \\\n",
       "0  13300000  7420         4          2        3      yes        no       no   \n",
       "1  12250000  8960         4          4        4      yes        no       no   \n",
       "2  12250000  9960         3          2        2      yes        no      yes   \n",
       "3  12215000  7500         4          2        2      yes        no      yes   \n",
       "4  11410000  7420         4          1        2      yes       yes      yes   \n",
       "\n",
       "  hotwaterheating airconditioning  parking prefarea furnishingstatus  \n",
       "0              no             yes        2      yes        furnished  \n",
       "1              no             yes        3       no        furnished  \n",
       "2              no              no        2      yes   semi-furnished  \n",
       "3              no             yes        3      yes        furnished  \n",
       "4              no             yes        2       no        furnished  "
      ]
     },
     "execution_count": 96,
     "metadata": {},
     "output_type": "execute_result"
    }
   ],
   "source": [
    "df.head()"
   ]
  },
  {
   "cell_type": "code",
   "execution_count": 97,
   "id": "40c692e5",
   "metadata": {},
   "outputs": [],
   "source": [
    "df = df[[\"price\", \"area\", \"stories\", \"bathrooms\"]]"
   ]
  },
  {
   "cell_type": "code",
   "execution_count": 98,
   "id": "6360cd73",
   "metadata": {},
   "outputs": [],
   "source": [
    "from sklearn.model_selection import train_test_split\n",
    "\n",
    "np.random.seed(0)\n",
    "df_train, df_test = train_test_split(df, train_size = 0.90, test_size = 0.10, random_state = 100)"
   ]
  },
  {
   "cell_type": "code",
   "execution_count": 99,
   "id": "93c8645a",
   "metadata": {},
   "outputs": [],
   "source": [
    "y_train = df_train.pop(\"price\")\n",
    "x_train = df_train\n",
    "y_test = df_test.pop(\"price\")\n",
    "x_test = df_test"
   ]
  },
  {
   "cell_type": "code",
   "execution_count": 100,
   "id": "ca758992",
   "metadata": {},
   "outputs": [],
   "source": [
    "from sklearn.preprocessing import MinMaxScaler\n",
    "\n",
    "numerical_list = df_train.columns\n",
    "\n",
    "scaler = MinMaxScaler()\n",
    "x_train[numerical_list] = scaler.fit_transform(x_train[numerical_list])\n",
    "x_test[numerical_list] = scaler.transform(x_test[numerical_list])"
   ]
  },
  {
   "cell_type": "code",
   "execution_count": 101,
   "id": "f4cc760c",
   "metadata": {},
   "outputs": [],
   "source": [
    "from sklearn.linear_model import LinearRegression\n",
    "\n",
    "model = LinearRegression().fit(x_train, y_train)"
   ]
  },
  {
   "cell_type": "code",
   "execution_count": 109,
   "id": "c01742a6",
   "metadata": {},
   "outputs": [
    {
     "name": "stdout",
     "output_type": "stream",
     "text": [
      "L1 Loss: 1147703.581568481\n"
     ]
    }
   ],
   "source": [
    "from sklearn.metrics import mean_absolute_error\n",
    "\n",
    "y_test_pred = model.predict(x_test)\n",
    "print(f\"L1 Loss: {mean_absolute_error(y_test, y_test_pred)}\")"
   ]
  },
  {
   "cell_type": "code",
   "execution_count": 114,
   "id": "ca68aa79",
   "metadata": {},
   "outputs": [
    {
     "data": {
      "text/plain": [
       "array([[0.08453608, 0.33333333, 0.        ],\n",
       "       [0.29896907, 0.33333333, 0.33333333],\n",
       "       [0.59237113, 0.        , 0.        ],\n",
       "       [0.25223368, 0.33333333, 0.        ],\n",
       "       [0.22680412, 0.33333333, 0.        ],\n",
       "       [0.18350515, 0.        , 0.        ],\n",
       "       [0.33608247, 0.33333333, 0.33333333],\n",
       "       [0.33608247, 0.33333333, 0.33333333],\n",
       "       [0.35395189, 0.        , 0.        ],\n",
       "       [0.33608247, 0.        , 0.        ],\n",
       "       [0.2742268 , 0.        , 0.        ],\n",
       "       [0.27835052, 0.        , 0.        ],\n",
       "       [0.07814433, 0.33333333, 0.33333333],\n",
       "       [0.95876289, 0.        , 0.        ],\n",
       "       [0.23958763, 0.33333333, 0.        ],\n",
       "       [0.18969072, 0.33333333, 0.66666667],\n",
       "       [0.40206186, 0.33333333, 0.33333333],\n",
       "       [0.16666667, 0.        , 0.        ],\n",
       "       [0.33676976, 0.33333333, 0.        ],\n",
       "       [0.14089347, 0.33333333, 0.        ],\n",
       "       [0.19587629, 0.33333333, 0.        ],\n",
       "       [0.16838488, 0.        , 0.        ],\n",
       "       [0.10391753, 0.33333333, 0.        ],\n",
       "       [0.29896907, 0.        , 0.        ],\n",
       "       [0.09690722, 0.        , 0.        ],\n",
       "       [0.10549828, 0.        , 0.        ],\n",
       "       [0.19656357, 0.33333333, 0.        ],\n",
       "       [0.26460481, 0.        , 0.33333333],\n",
       "       [0.38556701, 0.        , 0.33333333],\n",
       "       [0.29896907, 0.33333333, 0.        ],\n",
       "       [0.02405498, 0.33333333, 0.        ],\n",
       "       [0.17800687, 0.33333333, 0.        ],\n",
       "       [0.21305842, 0.        , 0.        ],\n",
       "       [0.13738832, 0.        , 0.        ],\n",
       "       [0.30171821, 0.        , 0.        ],\n",
       "       [0.23298969, 0.33333333, 0.        ],\n",
       "       [0.13676976, 0.33333333, 0.33333333],\n",
       "       [0.15876289, 0.        , 0.        ],\n",
       "       [0.13608247, 0.        , 0.        ],\n",
       "       [0.19587629, 0.33333333, 0.        ],\n",
       "       [0.12989691, 0.        , 0.        ],\n",
       "       [0.11340206, 0.33333333, 0.66666667],\n",
       "       [0.34020619, 0.        , 0.33333333],\n",
       "       [0.05154639, 0.33333333, 0.        ],\n",
       "       [0.0790378 , 0.        , 0.        ],\n",
       "       [0.25773196, 0.33333333, 0.        ],\n",
       "       [0.26460481, 0.33333333, 0.        ],\n",
       "       [0.13402062, 0.33333333, 0.33333333],\n",
       "       [0.19587629, 0.        , 0.        ],\n",
       "       [0.46199313, 0.66666667, 0.        ],\n",
       "       [0.08659794, 0.        , 0.        ],\n",
       "       [0.28522337, 1.        , 0.33333333],\n",
       "       [0.25085911, 0.        , 0.33333333],\n",
       "       [0.36769759, 1.        , 0.        ],\n",
       "       [0.32302405, 0.66666667, 0.33333333]])"
      ]
     },
     "execution_count": 114,
     "metadata": {},
     "output_type": "execute_result"
    }
   ],
   "source": [
    "np.array(x_test)"
   ]
  },
  {
   "cell_type": "code",
   "execution_count": 110,
   "id": "ac7a525a",
   "metadata": {},
   "outputs": [],
   "source": [
    "with open(\"app/model_house.pkl\", \"wb\") as f:\n",
    "    pickle.dump(model, f)\n",
    "    \n",
    "with open(\"app/model_scaler.pkl\", \"wb\") as f:\n",
    "    pickle.dump(scaler, f)"
   ]
  },
  {
   "cell_type": "code",
   "execution_count": 115,
   "id": "bfbe37cf",
   "metadata": {},
   "outputs": [
    {
     "data": {
      "text/plain": [
       "'2.0.3'"
      ]
     },
     "execution_count": 115,
     "metadata": {},
     "output_type": "execute_result"
    }
   ],
   "source": [
    "pd.__version__"
   ]
  },
  {
   "cell_type": "code",
   "execution_count": null,
   "id": "1028b811",
   "metadata": {},
   "outputs": [],
   "source": []
  }
 ],
 "metadata": {
  "kernelspec": {
   "display_name": "ML-experiments",
   "language": "python",
   "name": "ml-experiments"
  },
  "language_info": {
   "codemirror_mode": {
    "name": "ipython",
    "version": 3
   },
   "file_extension": ".py",
   "mimetype": "text/x-python",
   "name": "python",
   "nbconvert_exporter": "python",
   "pygments_lexer": "ipython3",
   "version": "3.8.16"
  }
 },
 "nbformat": 4,
 "nbformat_minor": 5
}
